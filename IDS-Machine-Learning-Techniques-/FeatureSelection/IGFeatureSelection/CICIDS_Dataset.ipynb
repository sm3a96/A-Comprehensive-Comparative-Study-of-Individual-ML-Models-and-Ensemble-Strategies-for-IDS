{
 "cells": [
  {
   "cell_type": "code",
   "execution_count": null,
   "metadata": {},
   "outputs": [
    {
     "name": "stdout",
     "output_type": "stream",
     "text": [
      " Extract subsample of data: \n",
      "Label\n",
      "BENIGN                        2096484\n",
      "DoS Hulk                       172849\n",
      "DDoS                           128016\n",
      "PortScan                        90819\n",
      "DoS GoldenEye                   10286\n",
      "FTP-Patator                      5933\n",
      "DoS slowloris                    5385\n",
      "DoS Slowhttptest                 5228\n",
      "SSH-Patator                      3219\n",
      "Bot                              1953\n",
      "Web Attack � Brute Force         1470\n",
      "Web Attack � XSS                  652\n",
      "Infiltration                       36\n",
      "Web Attack � Sql Injection         21\n",
      "Heartbleed                         11\n",
      "Name: count, dtype: int64\n"
     ]
    }
   ],
   "source": [
    "import pandas as pd\n",
    "from sklearn.preprocessing import LabelEncoder\n",
    "from sklearn.model_selection import train_test_split\n",
    "\n",
    "df = pd.read_csv('/home/ibibers@ads.iu.edu/IDS_Datasets/Combined_datasets/CICIDS2017_combined_dataset.csv')\n",
    "\n",
    "main_df_1 = df.drop_duplicates(keep='first')\n",
    "\n",
    "one_value = main_df_1.columns[main_df_1.nunique() == 1]\n",
    "main_df_2 = main_df_1.drop(columns = one_value, axis=1)\n",
    "\n",
    "main_df_2['Flow Bytes/s'] = main_df_2['Flow Bytes/s'].fillna(main_df_2['Flow Bytes/s'].mean())\n",
    "\n",
    "main_df_2.rename(columns=lambda x: x.lstrip(), inplace=True)\n",
    "\n",
    "sample_df_1 = main_df_2.copy()\n",
    "\n",
    "\n",
    "print (\" Extract subsample of data: \")\n",
    "print (sample_df_1['Label'].value_counts())\n"
   ]
  },
  {
   "cell_type": "code",
   "execution_count": 9,
   "metadata": {},
   "outputs": [],
   "source": [
    "le = LabelEncoder()\n",
    "sample_df_1['Label'] = le.fit_transform(sample_df_1['Label'])\n"
   ]
  },
  {
   "cell_type": "code",
   "execution_count": null,
   "metadata": {},
   "outputs": [],
   "source": [
    "dropped_df = ['Label', 'Flow Packets/s', 'Flow Bytes/s']\n",
    "X = sample_df_1.drop( dropped_df, axis=1) \n",
    "y = sample_df_1['Label']  "
   ]
  },
  {
   "cell_type": "code",
   "execution_count": 111,
   "metadata": {},
   "outputs": [],
   "source": [
    "X_train, X_test, y_train, y_test = train_test_split(X, y, test_size=0.2, random_state=42, stratify=y)"
   ]
  },
  {
   "cell_type": "code",
   "execution_count": 11,
   "metadata": {},
   "outputs": [],
   "source": [
    "import pandas as pd\n",
    "from sklearn.feature_selection import mutual_info_classif"
   ]
  },
  {
   "cell_type": "code",
   "execution_count": 12,
   "metadata": {},
   "outputs": [
    {
     "name": "stdout",
     "output_type": "stream",
     "text": [
      "Information Gain Scores:\n",
      "                        Feature  Information Gain\n",
      "48          Average Packet Size          0.568839\n",
      "36           Packet Length Mean          0.540820\n",
      "37            Packet Length Std          0.538622\n",
      "38       Packet Length Variance          0.537069\n",
      "5   Total Length of Bwd Packets          0.489570\n",
      "..                          ...               ...\n",
      "40               SYN Flag Count          0.017516\n",
      "41               RST Flag Count          0.000141\n",
      "45               CWE Flag Count          0.000052\n",
      "29                Fwd URG Flags          0.000000\n",
      "46               ECE Flag Count          0.000000\n",
      "\n",
      "[68 rows x 2 columns]\n"
     ]
    }
   ],
   "source": [
    "information_gain = mutual_info_classif(X, y)\n",
    "\n",
    "ig_scores_df = pd.DataFrame({\n",
    "    'Feature': X.columns,\n",
    "    'Information Gain': information_gain\n",
    "})\n",
    "\n",
    "ig_scores_df = ig_scores_df.sort_values(by='Information Gain', ascending=False)\n",
    "\n",
    "print(\"Information Gain Scores:\")\n",
    "print(ig_scores_df)"
   ]
  },
  {
   "cell_type": "code",
   "execution_count": 13,
   "metadata": {},
   "outputs": [
    {
     "name": "stdout",
     "output_type": "stream",
     "text": [
      "Top Features Selected:\n",
      "['Average Packet Size', 'Packet Length Mean', 'Packet Length Std', 'Packet Length Variance', 'Total Length of Bwd Packets', 'Subflow Bwd Bytes', 'Bwd Packet Length Mean', 'Avg Bwd Segment Size', 'Subflow Fwd Bytes', 'Total Length of Fwd Packets']\n"
     ]
    }
   ],
   "source": [
    "k = 10  \n",
    "top_features = ig_scores_df['Feature'].head(k).tolist()\n",
    "\n",
    "print(\"Top Features Selected:\")\n",
    "print(top_features)\n"
   ]
  }
 ],
 "metadata": {
  "kernelspec": {
   "display_name": ".venv",
   "language": "python",
   "name": "python3"
  },
  "language_info": {
   "codemirror_mode": {
    "name": "ipython",
    "version": 3
   },
   "file_extension": ".py",
   "mimetype": "text/x-python",
   "name": "python",
   "nbconvert_exporter": "python",
   "pygments_lexer": "ipython3",
   "version": "3.10.12"
  }
 },
 "nbformat": 4,
 "nbformat_minor": 2
}
