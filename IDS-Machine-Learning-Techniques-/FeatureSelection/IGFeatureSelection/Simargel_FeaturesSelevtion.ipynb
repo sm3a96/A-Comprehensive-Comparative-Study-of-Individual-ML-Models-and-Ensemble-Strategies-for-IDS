{
 "cells": [
  {
   "cell_type": "code",
   "execution_count": null,
   "metadata": {},
   "outputs": [
    {
     "name": "stdout",
     "output_type": "stream",
     "text": [
      "Target class distribution:\n",
      "ALERT\n",
      "Normal               15049330\n",
      "Denial of Service     5138973\n",
      "Port Scanning         4170194\n",
      "Malware                   571\n",
      "Name: count, dtype: int64\n"
     ]
    }
   ],
   "source": [
    "import pandas as pd\n",
    "from sklearn.model_selection import train_test_split\n",
    "from sklearn.feature_selection import mutual_info_classif\n",
    "\n",
    "df = pd.read_csv('/home/ibibers@ads.iu.edu/IDS_Datasets/Combined_datasets/Simargl_cleaned_dataset.csv')\n",
    "\n",
    "print(\"Target class distribution:\")\n",
    "print(df['ALERT'].value_counts())\n"
   ]
  },
  {
   "cell_type": "code",
   "execution_count": null,
   "metadata": {},
   "outputs": [],
   "source": [
    "X = df.drop(columns=['ALERT'])  \n",
    "y = df['ALERT']               \n",
    "\n",
    "X_train, X_test, y_train, y_test = train_test_split(X, y, test_size=0.2, random_state=42, stratify=y)\n"
   ]
  },
  {
   "cell_type": "code",
   "execution_count": null,
   "metadata": {},
   "outputs": [
    {
     "name": "stdout",
     "output_type": "stream",
     "text": [
      "\n",
      " the all top features are: [('IPV4_SRC_ADDR', 0.9484074028909807), ('IN_BYTES', 0.8572953589108459), ('TOTAL_FLOWS_EXP', 0.8482002133077475), ('FLOW_ID', 0.8481959373596015), ('IPV4_DST_ADDR', 0.8395692342244765), ('LAST_SWITCHED', 0.8050392656537886), ('TCP_FLAGS', 0.7626107967291005), ('FIRST_SWITCHED', 0.737106851877946), ('ANALYSIS_TIMESTAMP', 0.7293230837113438), ('L4_SRC_PORT', 0.6388551386116517), ('TCP_WIN_MAX_IN', 0.5894881960929212), ('L4_DST_PORT', 0.5830188209539671), ('TCP_WIN_MIN_IN', 0.5726510161444471), ('FLOW_DURATION_MILLISECONDS', 0.5592412484104601), ('OUT_BYTES', 0.4895510694402043), ('TCP_WIN_MSS_IN', 0.4253780357595669), ('OUT_PKTS', 0.3418995030081262), ('IN_PKTS', 0.33858377761085867), ('TCP_WIN_SCALE_IN', 0.32283428366581224), ('PROTOCOL', 0.2035181432752886), ('PROTOCOL_MAP', 0.18493254077178922), ('TCP_WIN_MAX_OUT', 0.1361896946237291), ('TCP_WIN_MIN_OUT', 0.1359983533647695), ('TCP_WIN_SCALE_OUT', 0.06438243701562363), ('SRC_TOS', 0.05368797434904349), ('DST_TOS', 0.043285649080545774), ('ANOMALY', 0.0)]\n"
     ]
    }
   ],
   "source": [
    "def select_top_features(X, y, k=None):\n",
    "    \"\"\"\n",
    "    Selects and ranks features based on mutual information (Information Gain).\n",
    "\n",
    "    Args:\n",
    "        X: DataFrame of input features.\n",
    "        y: Series of target variable.\n",
    "        k: Number of top features to select (optional).\n",
    "\n",
    "    \n",
    "    \"\"\"\n",
    "    ig_scores = mutual_info_classif(X, y)\n",
    "    \n",
    "    feature_scores = {feature: score for feature, score in zip(X.columns, ig_scores)}\n",
    "    \n",
    "    sorted_features = sorted(feature_scores.items(), key=lambda x: x[1], reverse=True)\n",
    "    \n",
    "    if k:\n",
    "        return [feature for feature, score in sorted_features[:k]]  \n",
    "    return sorted_features\n",
    "\n",
    "\n",
    "sorted_features = select_top_features(X_train, y_train)\n",
    "print (\"\\n the all top features are:\", sorted_features)\n"
   ]
  },
  {
   "cell_type": "code",
   "execution_count": 1,
   "metadata": {},
   "outputs": [],
   "source": [
    "import pandas as pd\n",
    "from sklearn.feature_selection import mutual_info_classif"
   ]
  },
  {
   "cell_type": "code",
   "execution_count": 4,
   "metadata": {},
   "outputs": [],
   "source": [
    "data = pd.read_csv('/home/ibibers/IDS Project/IDS_Datasets/Combined_datasets/Simargelpreprocessed_dataset_with_original_labels.csv')\n",
    "\n",
    "\n",
    "X = data.drop(columns=['ALERT']) \n",
    "y = data['ALERT']  "
   ]
  },
  {
   "cell_type": "code",
   "execution_count": 5,
   "metadata": {},
   "outputs": [
    {
     "name": "stdout",
     "output_type": "stream",
     "text": [
      "Information Gain Scores:\n",
      "                       Feature  Information Gain\n",
      "3                IPV4_SRC_ADDR          0.854286\n",
      "10                   TCP_FLAGS          0.833675\n",
      "5                IPV4_DST_ADDR          0.803937\n",
      "21                    IN_BYTES          0.645404\n",
      "0                      FLOW_ID          0.627127\n",
      "20             TOTAL_FLOWS_EXP          0.627119\n",
      "11              TCP_WIN_MAX_IN          0.621813\n",
      "16            TCP_WIN_SCALE_IN          0.621714\n",
      "13              TCP_WIN_MIN_IN          0.621680\n",
      "7   FLOW_DURATION_MILLISECONDS          0.600924\n",
      "8                LAST_SWITCHED          0.596458\n",
      "6               FIRST_SWITCHED          0.520416\n",
      "25          ANALYSIS_TIMESTAMP          0.515824\n",
      "4                  L4_DST_PORT          0.507542\n",
      "15              TCP_WIN_MSS_IN          0.500394\n",
      "9                     PROTOCOL          0.466596\n",
      "23                   OUT_BYTES          0.462142\n",
      "24                    OUT_PKTS          0.451065\n",
      "1                 PROTOCOL_MAP          0.398910\n",
      "12             TCP_WIN_MAX_OUT          0.387149\n",
      "14             TCP_WIN_MIN_OUT          0.387121\n",
      "17           TCP_WIN_SCALE_OUT          0.337247\n",
      "26                     ANOMALY          0.328997\n",
      "2                  L4_SRC_PORT          0.312139\n",
      "22                     IN_PKTS          0.305195\n",
      "19                     DST_TOS          0.240977\n",
      "18                     SRC_TOS          0.236684\n"
     ]
    }
   ],
   "source": [
    "information_gain = mutual_info_classif(X, y)\n",
    "\n",
    "ig_scores_df = pd.DataFrame({\n",
    "    'Feature': X.columns,\n",
    "    'Information Gain': information_gain\n",
    "})\n",
    "\n",
    "ig_scores_df = ig_scores_df.sort_values(by='Information Gain', ascending=False)\n",
    "\n",
    "print(\"Information Gain Scores:\")\n",
    "print(ig_scores_df)"
   ]
  },
  {
   "cell_type": "code",
   "execution_count": 6,
   "metadata": {},
   "outputs": [
    {
     "name": "stdout",
     "output_type": "stream",
     "text": [
      "Top Features Selected:\n",
      "['IPV4_SRC_ADDR', 'TCP_FLAGS', 'IPV4_DST_ADDR', 'IN_BYTES', 'FLOW_ID', 'TOTAL_FLOWS_EXP', 'TCP_WIN_MAX_IN', 'TCP_WIN_SCALE_IN', 'TCP_WIN_MIN_IN', 'FLOW_DURATION_MILLISECONDS']\n"
     ]
    }
   ],
   "source": [
    "k = 10  \n",
    "top_features = ig_scores_df['Feature'].head(k).tolist()\n",
    "\n",
    "print(\"Top Features Selected:\")\n",
    "print(top_features)"
   ]
  }
 ],
 "metadata": {
  "kernelspec": {
   "display_name": ".venv",
   "language": "python",
   "name": "python3"
  },
  "language_info": {
   "codemirror_mode": {
    "name": "ipython",
    "version": 3
   },
   "file_extension": ".py",
   "mimetype": "text/x-python",
   "name": "python",
   "nbconvert_exporter": "python",
   "pygments_lexer": "ipython3",
   "version": "3.10.12"
  }
 },
 "nbformat": 4,
 "nbformat_minor": 2
}
