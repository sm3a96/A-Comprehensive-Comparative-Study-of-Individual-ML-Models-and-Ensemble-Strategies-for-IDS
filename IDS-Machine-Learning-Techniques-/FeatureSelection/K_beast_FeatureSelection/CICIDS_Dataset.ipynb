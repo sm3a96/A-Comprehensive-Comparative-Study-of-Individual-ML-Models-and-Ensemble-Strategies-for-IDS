{
 "cells": [
  {
   "cell_type": "code",
   "execution_count": 4,
   "metadata": {},
   "outputs": [
    {
     "name": "stdout",
     "output_type": "stream",
     "text": [
      " Extract subsample of data: \n",
      "Label\n",
      "BENIGN                        2096484\n",
      "DoS Hulk                       172849\n",
      "DDoS                           128016\n",
      "PortScan                        90819\n",
      "DoS GoldenEye                   10286\n",
      "FTP-Patator                      5933\n",
      "DoS slowloris                    5385\n",
      "DoS Slowhttptest                 5228\n",
      "SSH-Patator                      3219\n",
      "Bot                              1953\n",
      "Web Attack � Brute Force         1470\n",
      "Web Attack � XSS                  652\n",
      "Infiltration                       36\n",
      "Web Attack � Sql Injection         21\n",
      "Heartbleed                         11\n",
      "Name: count, dtype: int64\n"
     ]
    }
   ],
   "source": [
    "# -*- coding: utf-8 -*- \n",
    "# This code is written in Python 3.7. To install the required packages, run the following commands:\n",
    "# pip install pandas numpy matplotlib seaborn scikit-learn sympy\n",
    "# This code is applicable to the CICIDS2017 dataset. \n",
    "# This code to get the top K features using Information Gain (IG) method. \n",
    "\n",
    "import pandas as pd\n",
    "from sklearn.preprocessing import LabelEncoder\n",
    "from sklearn.model_selection import train_test_split\n",
    "\n",
    "df = pd.read_csv('/home/ibibers@ads.iu.edu/IDS_Datasets/Combined_datasets/CICIDS2017_combined_dataset.csv')\n",
    "\n",
    "main_df_1 = df.drop_duplicates(keep='first')\n",
    "\n",
    "one_value = main_df_1.columns[main_df_1.nunique() == 1]\n",
    "main_df_2 = main_df_1.drop(columns = one_value, axis=1)\n",
    "\n",
    "main_df_2['Flow Bytes/s'] = main_df_2['Flow Bytes/s'].fillna(main_df_2['Flow Bytes/s'].mean())\n",
    "\n",
    "main_df_2.rename(columns=lambda x: x.lstrip(), inplace=True)\n",
    "\n",
    "sample_df_1 = main_df_2.copy()\n",
    "\n",
    "\n",
    "print (\" Extract subsample of data: \")\n",
    "print (sample_df_1['Label'].value_counts())\n"
   ]
  },
  {
   "cell_type": "code",
   "execution_count": 5,
   "metadata": {},
   "outputs": [
    {
     "name": "stdout",
     "output_type": "stream",
     "text": [
      "the Features are:  Index(['Destination Port', 'Flow Duration', 'Total Fwd Packets',\n",
      "       'Total Backward Packets', 'Total Length of Fwd Packets',\n",
      "       'Total Length of Bwd Packets', 'Fwd Packet Length Max',\n",
      "       'Fwd Packet Length Min', 'Fwd Packet Length Mean',\n",
      "       'Fwd Packet Length Std', 'Bwd Packet Length Max',\n",
      "       'Bwd Packet Length Min', 'Bwd Packet Length Mean',\n",
      "       'Bwd Packet Length Std', 'Flow Bytes/s', 'Flow Packets/s',\n",
      "       'Flow IAT Mean', 'Flow IAT Std', 'Flow IAT Max', 'Flow IAT Min',\n",
      "       'Fwd IAT Total', 'Fwd IAT Mean', 'Fwd IAT Std', 'Fwd IAT Max',\n",
      "       'Fwd IAT Min', 'Bwd IAT Total', 'Bwd IAT Mean', 'Bwd IAT Std',\n",
      "       'Bwd IAT Max', 'Bwd IAT Min', 'Fwd PSH Flags', 'Fwd URG Flags',\n",
      "       'Fwd Header Length', 'Bwd Header Length', 'Fwd Packets/s',\n",
      "       'Bwd Packets/s', 'Min Packet Length', 'Max Packet Length',\n",
      "       'Packet Length Mean', 'Packet Length Std', 'Packet Length Variance',\n",
      "       'FIN Flag Count', 'SYN Flag Count', 'RST Flag Count', 'PSH Flag Count',\n",
      "       'ACK Flag Count', 'URG Flag Count', 'CWE Flag Count', 'ECE Flag Count',\n",
      "       'Down/Up Ratio', 'Average Packet Size', 'Avg Fwd Segment Size',\n",
      "       'Avg Bwd Segment Size', 'Fwd Header Length.1', 'Subflow Fwd Packets',\n",
      "       'Subflow Fwd Bytes', 'Subflow Bwd Packets', 'Subflow Bwd Bytes',\n",
      "       'Init_Win_bytes_forward', 'Init_Win_bytes_backward', 'act_data_pkt_fwd',\n",
      "       'min_seg_size_forward', 'Active Mean', 'Active Std', 'Active Max',\n",
      "       'Active Min', 'Idle Mean', 'Idle Std', 'Idle Max', 'Idle Min', 'Label'],\n",
      "      dtype='object')\n"
     ]
    }
   ],
   "source": [
    "print (\"the Features are: \", sample_df_1.columns)\n",
    "\n",
    "# le = LabelEncoder()\n",
    "# sample_df_1['Label'] = le.fit_transform(sample_df_1['Label'])\n"
   ]
  },
  {
   "cell_type": "code",
   "execution_count": 6,
   "metadata": {},
   "outputs": [],
   "source": [
    "le = LabelEncoder()\n",
    "sample_df_1['Label'] = le.fit_transform(sample_df_1['Label'])"
   ]
  },
  {
   "cell_type": "code",
   "execution_count": 7,
   "metadata": {},
   "outputs": [],
   "source": [
    "dropped_df = ['Label', 'Flow Packets/s', 'Flow Bytes/s']\n",
    "X = sample_df_1.drop( dropped_df, axis=1) \n",
    "y = sample_df_1['Label']  \n",
    "feature_names = X.columns"
   ]
  },
  {
   "cell_type": "code",
   "execution_count": 22,
   "metadata": {},
   "outputs": [],
   "source": [
    "X_train, X_test, y_train, y_test = train_test_split(X, y, test_size=0.2, random_state=42, stratify=y)"
   ]
  },
  {
   "cell_type": "code",
   "execution_count": 72,
   "metadata": {},
   "outputs": [
    {
     "name": "stdout",
     "output_type": "stream",
     "text": [
      "Scores for each feature: [5.88638116e+03 5.24036630e+04 1.30362483e+01 6.14664006e+00\n",
      " 3.38446775e+03 8.13009752e+00 1.72791333e+03 3.29714118e+03\n",
      " 1.66324958e+03 1.43680314e+03 2.27261900e+05 1.36392185e+04\n",
      " 2.37422162e+05 2.38502985e+05 2.76907268e+04 1.10049705e+05\n",
      " 1.79395042e+05 1.07700787e+04 5.30919966e+04 2.14882807e+04\n",
      " 2.44600688e+05 1.78395451e+05 4.48069656e+03 5.59687431e+03\n",
      " 7.77861899e+03 2.83372165e+04 2.01803609e+04 4.82913640e+03\n",
      " 2.91607168e+03 1.16083260e+00 6.32795464e-02 1.12379148e-01\n",
      " 1.19649667e+03 4.67460512e+03 1.52152459e+04 1.75743988e+05\n",
      " 1.52015564e+05 1.94582480e+05 1.42593352e+05 5.24741308e+04\n",
      " 2.91607168e+03 9.95701776e+00 2.52873172e+04 1.03023655e+04\n",
      " 4.11474448e+03 1.16083260e+00 1.00005759e+01 3.37249367e+03\n",
      " 1.53946135e+05 1.66324958e+03 2.37422162e+05 6.32795464e-02\n",
      " 1.30362483e+01 3.39381646e+03 6.14664006e+00 8.13026364e+00\n",
      " 6.36145810e+03 2.77003072e+03 5.32666801e+00 2.67309427e-01\n",
      " 1.59873700e+04 6.93674637e+03 8.00808000e+03 1.70636032e+04\n",
      " 2.00028936e+05 8.28948347e+03 1.85826281e+05 2.01284358e+05]\n",
      "Selected features: [10 12 13 16 20 21 35 36 37 38 48 50 64 66 67]\n"
     ]
    }
   ],
   "source": [
    "# ------------------------------------------------- K-best for Calssification features selection -------------------------------------------- \n",
    "from sklearn.feature_selection import SelectKBest, f_classif\n",
    "\n",
    "# KBest with f_classif as scoring function \n",
    "selector = SelectKBest(score_func=f_classif, k=15)\n",
    "X_new = selector.fit_transform(X, y)\n",
    "\n",
    "# feature scores\n",
    "scores = selector.scores_\n",
    "selected_indices = selector.get_support(indices=True)\n",
    "print(\"Scores for each feature:\", scores)\n",
    "print(\"Selected features:\", selected_indices)\n",
    "\n",
    "\n"
   ]
  },
  {
   "cell_type": "code",
   "execution_count": 73,
   "metadata": {},
   "outputs": [],
   "source": [
    "selected_indices = selector.get_support(indices=True)\n",
    "\n",
    "selected_features = [X.columns[i] for i in selected_indices]"
   ]
  },
  {
   "cell_type": "code",
   "execution_count": 74,
   "metadata": {},
   "outputs": [
    {
     "name": "stdout",
     "output_type": "stream",
     "text": [
      "The X features:  Index(['Destination Port', 'Flow Duration', 'Total Fwd Packets',\n",
      "       'Total Backward Packets', 'Total Length of Fwd Packets',\n",
      "       'Total Length of Bwd Packets', 'Fwd Packet Length Max',\n",
      "       'Fwd Packet Length Min', 'Fwd Packet Length Mean',\n",
      "       'Fwd Packet Length Std', 'Bwd Packet Length Max',\n",
      "       'Bwd Packet Length Min', 'Bwd Packet Length Mean',\n",
      "       'Bwd Packet Length Std', 'Flow IAT Mean', 'Flow IAT Std',\n",
      "       'Flow IAT Max', 'Flow IAT Min', 'Fwd IAT Total', 'Fwd IAT Mean',\n",
      "       'Fwd IAT Std', 'Fwd IAT Max', 'Fwd IAT Min', 'Bwd IAT Total',\n",
      "       'Bwd IAT Mean', 'Bwd IAT Std', 'Bwd IAT Max', 'Bwd IAT Min',\n",
      "       'Fwd PSH Flags', 'Fwd URG Flags', 'Fwd Header Length',\n",
      "       'Bwd Header Length', 'Fwd Packets/s', 'Bwd Packets/s',\n",
      "       'Min Packet Length', 'Max Packet Length', 'Packet Length Mean',\n",
      "       'Packet Length Std', 'Packet Length Variance', 'FIN Flag Count',\n",
      "       'SYN Flag Count', 'RST Flag Count', 'PSH Flag Count', 'ACK Flag Count',\n",
      "       'URG Flag Count', 'CWE Flag Count', 'ECE Flag Count', 'Down/Up Ratio',\n",
      "       'Average Packet Size', 'Avg Fwd Segment Size', 'Avg Bwd Segment Size',\n",
      "       'Fwd Header Length.1', 'Subflow Fwd Packets', 'Subflow Fwd Bytes',\n",
      "       'Subflow Bwd Packets', 'Subflow Bwd Bytes', 'Init_Win_bytes_forward',\n",
      "       'Init_Win_bytes_backward', 'act_data_pkt_fwd', 'min_seg_size_forward',\n",
      "       'Active Mean', 'Active Std', 'Active Max', 'Active Min', 'Idle Mean',\n",
      "       'Idle Std', 'Idle Max', 'Idle Min'],\n",
      "      dtype='object')\n",
      "the size of the X features:  68\n",
      "Selected features:  ['Bwd Packet Length Max', 'Bwd Packet Length Mean', 'Bwd Packet Length Std', 'Flow IAT Max', 'Fwd IAT Std', 'Fwd IAT Max', 'Max Packet Length', 'Packet Length Mean', 'Packet Length Std', 'Packet Length Variance', 'Average Packet Size', 'Avg Bwd Segment Size', 'Idle Mean', 'Idle Max', 'Idle Min']\n",
      "The size of the selected features:  15\n"
     ]
    }
   ],
   "source": [
    "print (\"The X features: \", X.columns)\n",
    "print (\"the size of the X features: \", len(X.columns))\n",
    "print (\"Selected features: \", selected_features)\n",
    "print (\"The size of the selected features: \", len(selected_features))"
   ]
  },
  {
   "cell_type": "code",
   "execution_count": 23,
   "metadata": {},
   "outputs": [],
   "source": [
    "# ------------------------------------------------- K-best for Regression features selection --------------------------------------------\n",
    "\n",
    "from sklearn.feature_selection import SelectKBest, f_regression\n",
    "\n",
    "# KBest with f_regression as scoring function\n",
    "selector = SelectKBest(score_func=f_regression, k=15)\n"
   ]
  },
  {
   "cell_type": "code",
   "execution_count": 24,
   "metadata": {},
   "outputs": [
    {
     "name": "stdout",
     "output_type": "stream",
     "text": [
      "Destination Port                 int64\n",
      "Flow Duration                    int64\n",
      "Total Fwd Packets                int64\n",
      "Total Backward Packets           int64\n",
      "Total Length of Fwd Packets      int64\n",
      "                                ...   \n",
      "Idle Mean                      float64\n",
      "Idle Std                       float64\n",
      "Idle Max                         int64\n",
      "Idle Min                         int64\n",
      "Label                            int64\n",
      "Length: 71, dtype: object\n"
     ]
    }
   ],
   "source": [
    "print(sample_df_1.dtypes)\n"
   ]
  },
  {
   "cell_type": "code",
   "execution_count": 25,
   "metadata": {},
   "outputs": [],
   "source": [
    "X_new = selector.fit_transform(X, y)\n",
    "\n"
   ]
  },
  {
   "cell_type": "code",
   "execution_count": 26,
   "metadata": {},
   "outputs": [
    {
     "name": "stdout",
     "output_type": "stream",
     "text": [
      "Scores for each feature: [2.29278905e+04 5.45309553e+04 1.96787946e+01 1.85106811e+01\n",
      " 3.46753109e+02 1.04981320e+01 6.51264308e+03 3.01623597e+04\n",
      " 1.25086712e+04 2.87353661e+03 2.00832179e+05 1.18015898e+05\n",
      " 1.86256665e+05 2.10927359e+05 3.62473465e+04 1.49031295e+05\n",
      " 2.04018095e+05 1.30149504e+01 5.57558501e+04 2.93627376e+04\n",
      " 2.48260673e+05 2.05002351e+05 9.01640886e+02 4.12129474e+02\n",
      " 3.35203977e+02 3.90854493e+04 1.97390057e+04 1.16707976e+03\n",
      " 9.77537041e+03 1.09956614e+01 5.98813053e-01 1.04323697e+00\n",
      " 5.43133904e+03 2.19897391e+04 1.40809356e+05 1.62793301e+05\n",
      " 1.17688887e+05 1.65880200e+05 1.42020652e+05 7.86673093e+04\n",
      " 9.77537041e+03 9.43135707e+01 1.64295646e+05 1.35312242e+03\n",
      " 3.61089105e+04 1.09956614e+01 9.47261489e+01 5.40559548e+02\n",
      " 1.13853341e+05 1.25086712e+04 1.86256665e+05 5.98813053e-01\n",
      " 1.96787946e+01 3.47669196e+02 1.85106811e+01 1.04978100e+01\n",
      " 1.48602654e+04 1.13657262e+04 1.46457447e+01 2.53618747e+00\n",
      " 9.92521605e+01 4.79157580e+02 6.53073726e+02 2.25347846e+02\n",
      " 2.11818750e+05 4.50987790e+03 2.09973343e+05 2.07781452e+05]\n",
      "Selected features: [10 12 13 15 16 20 21 35 37 38 42 50 64 66 67]\n"
     ]
    }
   ],
   "source": [
    "\n",
    "\n",
    "scores = selector.scores_\n",
    "selected_indices = selector.get_support(indices=True)\n",
    "print(\"Scores for each feature:\", scores)\n",
    "print(\"Selected features:\", selected_indices)\n",
    "\n",
    "\n",
    "selected_indices = selector.get_support(indices=True)\n",
    "selected_features = [X.columns[i] for i in selected_indices]\n",
    "\n"
   ]
  },
  {
   "cell_type": "code",
   "execution_count": 27,
   "metadata": {},
   "outputs": [
    {
     "name": "stdout",
     "output_type": "stream",
     "text": [
      "The X features:  Index(['Destination Port', 'Flow Duration', 'Total Fwd Packets',\n",
      "       'Total Backward Packets', 'Total Length of Fwd Packets',\n",
      "       'Total Length of Bwd Packets', 'Fwd Packet Length Max',\n",
      "       'Fwd Packet Length Min', 'Fwd Packet Length Mean',\n",
      "       'Fwd Packet Length Std', 'Bwd Packet Length Max',\n",
      "       'Bwd Packet Length Min', 'Bwd Packet Length Mean',\n",
      "       'Bwd Packet Length Std', 'Flow IAT Mean', 'Flow IAT Std',\n",
      "       'Flow IAT Max', 'Flow IAT Min', 'Fwd IAT Total', 'Fwd IAT Mean',\n",
      "       'Fwd IAT Std', 'Fwd IAT Max', 'Fwd IAT Min', 'Bwd IAT Total',\n",
      "       'Bwd IAT Mean', 'Bwd IAT Std', 'Bwd IAT Max', 'Bwd IAT Min',\n",
      "       'Fwd PSH Flags', 'Fwd URG Flags', 'Fwd Header Length',\n",
      "       'Bwd Header Length', 'Fwd Packets/s', 'Bwd Packets/s',\n",
      "       'Min Packet Length', 'Max Packet Length', 'Packet Length Mean',\n",
      "       'Packet Length Std', 'Packet Length Variance', 'FIN Flag Count',\n",
      "       'SYN Flag Count', 'RST Flag Count', 'PSH Flag Count', 'ACK Flag Count',\n",
      "       'URG Flag Count', 'CWE Flag Count', 'ECE Flag Count', 'Down/Up Ratio',\n",
      "       'Average Packet Size', 'Avg Fwd Segment Size', 'Avg Bwd Segment Size',\n",
      "       'Fwd Header Length.1', 'Subflow Fwd Packets', 'Subflow Fwd Bytes',\n",
      "       'Subflow Bwd Packets', 'Subflow Bwd Bytes', 'Init_Win_bytes_forward',\n",
      "       'Init_Win_bytes_backward', 'act_data_pkt_fwd', 'min_seg_size_forward',\n",
      "       'Active Mean', 'Active Std', 'Active Max', 'Active Min', 'Idle Mean',\n",
      "       'Idle Std', 'Idle Max', 'Idle Min'],\n",
      "      dtype='object')\n",
      "the size of the X features:  68\n",
      "Selected features:  ['Bwd Packet Length Max', 'Bwd Packet Length Mean', 'Bwd Packet Length Std', 'Flow IAT Std', 'Flow IAT Max', 'Fwd IAT Std', 'Fwd IAT Max', 'Max Packet Length', 'Packet Length Std', 'Packet Length Variance', 'PSH Flag Count', 'Avg Bwd Segment Size', 'Idle Mean', 'Idle Max', 'Idle Min']\n",
      "The size of the selected features:  15\n"
     ]
    }
   ],
   "source": [
    "print (\"The X features: \", X.columns)\n",
    "print (\"the size of the X features: \", len(X.columns))\n",
    "print (\"Selected features: \", selected_features)\n",
    "print (\"The size of the selected features: \", len(selected_features))"
   ]
  },
  {
   "cell_type": "code",
   "execution_count": 8,
   "metadata": {},
   "outputs": [],
   "source": [
    "import pandas as pd\n",
    "from sklearn.feature_selection import SelectKBest, f_classif  # For classification tasks\n",
    "# For regression tasks, you can use f_regression instead of f_classif\n",
    "\n"
   ]
  },
  {
   "cell_type": "code",
   "execution_count": 9,
   "metadata": {},
   "outputs": [
    {
     "name": "stdout",
     "output_type": "stream",
     "text": [
      "Selected Features: Index(['Destination Port', 'Flow Duration', 'Total Fwd Packets',\n",
      "       'Total Backward Packets', 'Total Length of Fwd Packets',\n",
      "       'Total Length of Bwd Packets', 'Fwd Packet Length Max',\n",
      "       'Fwd Packet Length Min', 'Fwd Packet Length Mean',\n",
      "       'Fwd Packet Length Std', 'Bwd Packet Length Max',\n",
      "       'Bwd Packet Length Min', 'Bwd Packet Length Mean',\n",
      "       'Bwd Packet Length Std', 'Flow IAT Mean', 'Flow IAT Std',\n",
      "       'Flow IAT Max', 'Flow IAT Min', 'Fwd IAT Total', 'Fwd IAT Mean',\n",
      "       'Fwd IAT Std', 'Fwd IAT Max', 'Fwd IAT Min', 'Bwd IAT Total',\n",
      "       'Bwd IAT Mean', 'Bwd IAT Std', 'Bwd IAT Max', 'Bwd IAT Min',\n",
      "       'Fwd PSH Flags', 'Fwd URG Flags', 'Fwd Packets/s', 'Bwd Packets/s',\n",
      "       'Min Packet Length', 'Max Packet Length', 'Packet Length Mean',\n",
      "       'Packet Length Std', 'Packet Length Variance', 'FIN Flag Count',\n",
      "       'SYN Flag Count', 'RST Flag Count', 'PSH Flag Count', 'ACK Flag Count',\n",
      "       'URG Flag Count', 'CWE Flag Count', 'ECE Flag Count', 'Down/Up Ratio',\n",
      "       'Average Packet Size', 'Avg Fwd Segment Size', 'Avg Bwd Segment Size',\n",
      "       'Subflow Fwd Packets', 'Subflow Fwd Bytes', 'Subflow Bwd Packets',\n",
      "       'Subflow Bwd Bytes', 'Init_Win_bytes_forward',\n",
      "       'Init_Win_bytes_backward', 'act_data_pkt_fwd', 'min_seg_size_forward',\n",
      "       'Active Mean', 'Active Std', 'Active Max', 'Active Min', 'Idle Mean',\n",
      "       'Idle Std', 'Idle Max', 'Idle Min'],\n",
      "      dtype='object')\n",
      "Feature Scores:\n",
      "                   Feature          Score\n",
      "20             Fwd IAT Std  244600.687683\n",
      "13   Bwd Packet Length Std  238502.984612\n",
      "12  Bwd Packet Length Mean  237422.162456\n",
      "50    Avg Bwd Segment Size  237422.162456\n",
      "10   Bwd Packet Length Max  227261.900102\n",
      "..                     ...            ...\n",
      "29           Fwd URG Flags       1.160833\n",
      "59    min_seg_size_forward       0.267309\n",
      "31       Bwd Header Length       0.112379\n",
      "30       Fwd Header Length       0.063280\n",
      "51     Fwd Header Length.1       0.063280\n",
      "\n",
      "[68 rows x 2 columns]\n",
      "                   Feature          Score\n",
      "20             Fwd IAT Std  244600.687683\n",
      "13   Bwd Packet Length Std  238502.984612\n",
      "12  Bwd Packet Length Mean  237422.162456\n",
      "50    Avg Bwd Segment Size  237422.162456\n",
      "10   Bwd Packet Length Max  227261.900102\n",
      "..                     ...            ...\n",
      "29           Fwd URG Flags       1.160833\n",
      "59    min_seg_size_forward       0.267309\n",
      "31       Bwd Header Length       0.112379\n",
      "30       Fwd Header Length       0.063280\n",
      "51     Fwd Header Length.1       0.063280\n",
      "\n",
      "[68 rows x 2 columns]\n"
     ]
    }
   ],
   "source": [
    "k = 65  \n",
    "selector = SelectKBest(score_func=f_classif, k=k)\n",
    "\n",
    "X_new = selector.fit_transform(X, y)\n",
    "\n",
    "selected_feature_indices = selector.get_support(indices=True)\n",
    "\n",
    "selected_feature_names = X.columns[selected_feature_indices]\n",
    "\n",
    "print(\"Selected Features:\", selected_feature_names)\n",
    "\n",
    "feature_scores = selector.scores_\n",
    "\n",
    "feature_scores_df = pd.DataFrame({\n",
    "    'Feature': X.columns,\n",
    "    'Score': feature_scores\n",
    "})\n",
    "\n",
    "\n",
    "feature_scores_df = feature_scores_df.sort_values(by='Score', ascending=False)\n",
    "\n",
    "print(\"Feature Scores:\")\n",
    "print(feature_scores_df)\n",
    "print (feature_scores_df)"
   ]
  },
  {
   "cell_type": "code",
   "execution_count": 10,
   "metadata": {},
   "outputs": [
    {
     "name": "stdout",
     "output_type": "stream",
     "text": [
      "The top K features are:  20               Fwd IAT Std\n",
      "13     Bwd Packet Length Std\n",
      "12    Bwd Packet Length Mean\n",
      "50      Avg Bwd Segment Size\n",
      "10     Bwd Packet Length Max\n",
      "67                  Idle Min\n",
      "64                 Idle Mean\n",
      "37         Packet Length Std\n",
      "66                  Idle Max\n",
      "16              Flow IAT Max\n",
      "Name: Feature, dtype: object\n"
     ]
    }
   ],
   "source": [
    "print (\"The top K features are: \", feature_scores_df['Feature'].head(10))"
   ]
  }
 ],
 "metadata": {
  "kernelspec": {
   "display_name": ".venv",
   "language": "python",
   "name": "python3"
  },
  "language_info": {
   "codemirror_mode": {
    "name": "ipython",
    "version": 3
   },
   "file_extension": ".py",
   "mimetype": "text/x-python",
   "name": "python",
   "nbconvert_exporter": "python",
   "pygments_lexer": "ipython3",
   "version": "3.10.12"
  }
 },
 "nbformat": 4,
 "nbformat_minor": 2
}
