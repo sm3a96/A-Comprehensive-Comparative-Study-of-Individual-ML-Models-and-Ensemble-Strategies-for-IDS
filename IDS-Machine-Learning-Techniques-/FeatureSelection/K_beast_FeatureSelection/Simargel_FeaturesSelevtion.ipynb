{
 "cells": [
  {
   "cell_type": "code",
   "execution_count": 16,
   "metadata": {},
   "outputs": [],
   "source": [
    "import pandas as pd\n",
    "from sklearn.feature_selection import SelectKBest, f_classif  # For classification tasks\n",
    "# For regression tasks, you can use f_regression instead of f_classif"
   ]
  },
  {
   "cell_type": "code",
   "execution_count": 17,
   "metadata": {},
   "outputs": [],
   "source": [
    "\n",
    "data = pd.read_csv('/home/ibibers/IDS Project/IDS_Datasets/Combined_datasets/Simargelpreprocessed_dataset_with_original_labels.csv')\n",
    "\n",
    "\n",
    "X = data.drop(columns=['ALERT'])  # Features\n",
    "y = data['ALERT']  # Target variable"
   ]
  },
  {
   "cell_type": "code",
   "execution_count": 18,
   "metadata": {},
   "outputs": [
    {
     "name": "stdout",
     "output_type": "stream",
     "text": [
      "Selected Features: Index(['FLOW_ID', 'PROTOCOL_MAP', 'L4_SRC_PORT', 'IPV4_SRC_ADDR',\n",
      "       'L4_DST_PORT', 'IPV4_DST_ADDR', 'FIRST_SWITCHED',\n",
      "       'FLOW_DURATION_MILLISECONDS', 'LAST_SWITCHED', 'PROTOCOL', 'TCP_FLAGS',\n",
      "       'TCP_WIN_MAX_IN', 'TCP_WIN_MAX_OUT', 'TCP_WIN_MIN_IN',\n",
      "       'TCP_WIN_MIN_OUT', 'TCP_WIN_MSS_IN', 'TCP_WIN_SCALE_IN',\n",
      "       'TCP_WIN_SCALE_OUT', 'SRC_TOS', 'DST_TOS', 'TOTAL_FLOWS_EXP', 'IN_PKTS',\n",
      "       'ANALYSIS_TIMESTAMP', 'ANOMALY'],\n",
      "      dtype='object')\n"
     ]
    }
   ],
   "source": [
    "# Initialize SelectKBest with the ANOVA F-test and k=10 (select top 10 features)\n",
    "k = 24  # You can adjust this value based on your needs\n",
    "selector = SelectKBest(score_func=f_classif, k=k)\n",
    "\n",
    "# Fit SelectKBest to the data\n",
    "X_new = selector.fit_transform(X, y)\n",
    "\n",
    "# Get the selected feature indices\n",
    "selected_feature_indices = selector.get_support(indices=True)\n",
    "\n",
    "# Get the names of the selected features\n",
    "selected_feature_names = X.columns[selected_feature_indices]\n",
    "\n",
    "print(\"Selected Features:\", selected_feature_names)"
   ]
  },
  {
   "cell_type": "code",
   "execution_count": 19,
   "metadata": {},
   "outputs": [
    {
     "name": "stdout",
     "output_type": "stream",
     "text": [
      "Feature Scores:\n",
      "                       Feature         Score\n",
      "13              TCP_WIN_MIN_IN  1.180663e+07\n",
      "11              TCP_WIN_MAX_IN  1.172866e+07\n",
      "15              TCP_WIN_MSS_IN  1.064410e+07\n",
      "16            TCP_WIN_SCALE_IN  1.045935e+07\n",
      "5                IPV4_DST_ADDR  1.965449e+06\n",
      "9                     PROTOCOL  1.791947e+06\n",
      "20             TOTAL_FLOWS_EXP  1.623041e+06\n",
      "0                      FLOW_ID  1.623041e+06\n",
      "25          ANALYSIS_TIMESTAMP  1.409424e+06\n",
      "6               FIRST_SWITCHED  1.409033e+06\n",
      "8                LAST_SWITCHED  1.408988e+06\n",
      "10                   TCP_FLAGS  5.418427e+05\n",
      "12             TCP_WIN_MAX_OUT  4.686825e+05\n",
      "14             TCP_WIN_MIN_OUT  4.670385e+05\n",
      "3                IPV4_SRC_ADDR  4.187814e+05\n",
      "17           TCP_WIN_SCALE_OUT  3.600968e+05\n",
      "4                  L4_DST_PORT  2.920737e+05\n",
      "19                     DST_TOS  2.705769e+05\n",
      "26                     ANOMALY  2.416948e+05\n",
      "18                     SRC_TOS  2.378970e+05\n",
      "2                  L4_SRC_PORT  1.110506e+05\n",
      "1                 PROTOCOL_MAP  5.702430e+04\n",
      "7   FLOW_DURATION_MILLISECONDS  2.137117e+04\n",
      "22                     IN_PKTS  1.626845e+03\n",
      "24                    OUT_PKTS  1.207204e+03\n",
      "23                   OUT_BYTES  1.135497e+03\n",
      "21                    IN_BYTES  3.968037e+02\n"
     ]
    }
   ],
   "source": [
    "# Get scores for all features\n",
    "feature_scores = selector.scores_\n",
    "\n",
    "# Create a DataFrame to display feature scores\n",
    "feature_scores_df = pd.DataFrame({\n",
    "    'Feature': X.columns,\n",
    "    'Score': feature_scores\n",
    "})\n",
    "\n",
    "# Sort by score in descending order\n",
    "feature_scores_df = feature_scores_df.sort_values(by='Score', ascending=False)\n",
    "\n",
    "print(\"Feature Scores:\")\n",
    "print(feature_scores_df)"
   ]
  },
  {
   "cell_type": "code",
   "execution_count": 20,
   "metadata": {},
   "outputs": [
    {
     "name": "stdout",
     "output_type": "stream",
     "text": [
      "                       Feature         Score\n",
      "13              TCP_WIN_MIN_IN  1.180663e+07\n",
      "11              TCP_WIN_MAX_IN  1.172866e+07\n",
      "15              TCP_WIN_MSS_IN  1.064410e+07\n",
      "16            TCP_WIN_SCALE_IN  1.045935e+07\n",
      "5                IPV4_DST_ADDR  1.965449e+06\n",
      "9                     PROTOCOL  1.791947e+06\n",
      "20             TOTAL_FLOWS_EXP  1.623041e+06\n",
      "0                      FLOW_ID  1.623041e+06\n",
      "25          ANALYSIS_TIMESTAMP  1.409424e+06\n",
      "6               FIRST_SWITCHED  1.409033e+06\n",
      "8                LAST_SWITCHED  1.408988e+06\n",
      "10                   TCP_FLAGS  5.418427e+05\n",
      "12             TCP_WIN_MAX_OUT  4.686825e+05\n",
      "14             TCP_WIN_MIN_OUT  4.670385e+05\n",
      "3                IPV4_SRC_ADDR  4.187814e+05\n",
      "17           TCP_WIN_SCALE_OUT  3.600968e+05\n",
      "4                  L4_DST_PORT  2.920737e+05\n",
      "19                     DST_TOS  2.705769e+05\n",
      "26                     ANOMALY  2.416948e+05\n",
      "18                     SRC_TOS  2.378970e+05\n",
      "2                  L4_SRC_PORT  1.110506e+05\n",
      "1                 PROTOCOL_MAP  5.702430e+04\n",
      "7   FLOW_DURATION_MILLISECONDS  2.137117e+04\n",
      "22                     IN_PKTS  1.626845e+03\n",
      "24                    OUT_PKTS  1.207204e+03\n",
      "23                   OUT_BYTES  1.135497e+03\n",
      "21                    IN_BYTES  3.968037e+02\n"
     ]
    }
   ],
   "source": [
    "print (feature_scores_df)"
   ]
  }
 ],
 "metadata": {
  "kernelspec": {
   "display_name": ".venv",
   "language": "python",
   "name": "python3"
  },
  "language_info": {
   "codemirror_mode": {
    "name": "ipython",
    "version": 3
   },
   "file_extension": ".py",
   "mimetype": "text/x-python",
   "name": "python",
   "nbconvert_exporter": "python",
   "pygments_lexer": "ipython3",
   "version": "3.10.12"
  }
 },
 "nbformat": 4,
 "nbformat_minor": 2
}
