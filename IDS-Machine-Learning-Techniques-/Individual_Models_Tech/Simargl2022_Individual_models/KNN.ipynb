{
 "cells": [
  {
   "cell_type": "code",
   "execution_count": null,
   "metadata": {},
   "outputs": [],
   "source": [
    "import time\n",
    "import sys\n",
    "from sklearn.neighbors import KNeighborsClassifier\n",
    "sys.path.append('/home/ibibers/IDS Project/IDS-Machine-Learning-Techniques-')\n",
    "from Simargl import data_preprocessing, evaluate_model, plot_confusion_matrix\n",
    "\n",
    "\n",
    "# ---------------------------- Model Training and Evaluation ----------------------------\n",
    "results = []\n",
    "datasets, le = data_preprocessing()\n",
    "for name, (X_tr, X_te, y_train , y_test) in datasets.items():\n",
    "    print(f\"\\n----- Training Models for {name} -----\")\n",
    "    \n",
    "    start_time = time.time()\n",
    "    model1 = KNeighborsClassifier(n_neighbors=5)\n",
    "\n",
    "    model1.fit(X_tr, y_train)\n",
    "    train_end_time = time.time()\n",
    "\n",
    "    final_predictions = model1.predict(X_te)\n",
    "    pred_end_time = time.time()\n",
    "\n",
    "\n",
    "    metrics = evaluate_model(y_test, final_predictions, f\"KNeighborsClassifier Technique Ensemble ({name})\")\n",
    "    metrics['Training Time (s)'] = train_end_time - start_time\n",
    "    metrics['Prediction Time (s)'] = pred_end_time - train_end_time\n",
    "    metrics['Total Time (s)'] = pred_end_time - start_time\n",
    "    results.append(metrics)\n",
    "\n",
    "    plot_confusion_matrix(y_test, final_predictions, le.classes_, f\"Confusion Matrix ({name})\")\n"
   ]
  },
  {
   "cell_type": "code",
   "execution_count": null,
   "metadata": {},
   "outputs": [],
   "source": [
    "# ---------------------------- Summary and Save Results ----------------------------\n",
    "import pandas as pd\n",
    "summary = pd.DataFrame(results)\n",
    "print(\"\\nSummary of Results:\")\n",
    "print(summary)\n",
    "\n",
    "summary.to_csv(\"Sim_knn_classifier_evaluation_summary.csv\", index=False)\n"
   ]
  }
 ],
 "metadata": {
  "kernelspec": {
   "display_name": ".venv",
   "language": "python",
   "name": "python3"
  },
  "language_info": {
   "codemirror_mode": {
    "name": "ipython",
    "version": 3
   },
   "file_extension": ".py",
   "mimetype": "text/x-python",
   "name": "python",
   "nbconvert_exporter": "python",
   "pygments_lexer": "ipython3",
   "version": "3.10.12"
  }
 },
 "nbformat": 4,
 "nbformat_minor": 2
}
